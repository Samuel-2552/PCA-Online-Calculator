{
 "cells": [
  {
   "cell_type": "code",
   "execution_count": 23,
   "metadata": {},
   "outputs": [
    {
     "data": {
      "text/html": [
       "        <script type=\"text/javascript\">\n",
       "        window.PlotlyConfig = {MathJaxConfig: 'local'};\n",
       "        if (window.MathJax && window.MathJax.Hub && window.MathJax.Hub.Config) {window.MathJax.Hub.Config({SVG: {font: \"STIX-Web\"}});}\n",
       "        if (typeof require !== 'undefined') {\n",
       "        require.undef(\"plotly\");\n",
       "        requirejs.config({\n",
       "            paths: {\n",
       "                'plotly': ['https://cdn.plot.ly/plotly-2.16.1.min']\n",
       "            }\n",
       "        });\n",
       "        require(['plotly'], function(Plotly) {\n",
       "            window._Plotly = Plotly;\n",
       "        });\n",
       "        }\n",
       "        </script>\n",
       "        "
      ]
     },
     "metadata": {},
     "output_type": "display_data"
    }
   ],
   "source": [
    "import numpy as np\n",
    "import pandas as pd\n",
    "import plotly\n",
    "import plotly.express as px\n",
    "plotly.offline.init_notebook_mode (connected = True)\n",
    "import matplotlib.pyplot as plt\n",
    "import warnings"
   ]
  },
  {
   "cell_type": "code",
   "execution_count": 24,
   "metadata": {},
   "outputs": [],
   "source": [
    "header = 1 # 0 for No, 1 for Yes\n",
    "label = 1 # 0 for No, 1 for Yes\n",
    "path=\"test-data-revised.csv\" #path to the datset\n",
    "visualization=1 # 0 for No, 1 for Yes\n",
    "apply = 1 # 0 for none, 1 for standardization, 2 for normalization\n",
    "components = 2 # get number input from user"
   ]
  },
  {
   "cell_type": "code",
   "execution_count": 25,
   "metadata": {},
   "outputs": [],
   "source": [
    "if header==1:\n",
    "    df = pd.read_csv(path)\n",
    "else:\n",
    "    df = pd.read_csv(path,header=None)\n",
    "\n",
    "if label==1:\n",
    "    labeled=df[df.columns[-1]]\n",
    "    df=df.drop([df.columns[-1]],axis=1)"
   ]
  },
  {
   "cell_type": "code",
   "execution_count": 26,
   "metadata": {},
   "outputs": [],
   "source": [
    "warnings.filterwarnings(\"ignore\")"
   ]
  },
  {
   "cell_type": "code",
   "execution_count": 27,
   "metadata": {},
   "outputs": [
    {
     "data": {
      "text/plain": [
       "Index(['A', 'B', 'C'], dtype='object')"
      ]
     },
     "execution_count": 27,
     "metadata": {},
     "output_type": "execute_result"
    }
   ],
   "source": [
    "feats = df.columns[:]\n",
    "feats # getting the header names"
   ]
  },
  {
   "cell_type": "code",
   "execution_count": 28,
   "metadata": {},
   "outputs": [],
   "source": [
    "from sklearn.preprocessing import StandardScaler\n",
    "from sklearn import preprocessing\n",
    "\n",
    "if apply==1:\n",
    "    scaler = StandardScaler().fit_transform(df[feats])\n",
    "elif apply==2:\n",
    "    scaler = preprocessing.normalize(df[feats])\n",
    "else:\n",
    "    scaler = df[feats]"
   ]
  },
  {
   "cell_type": "code",
   "execution_count": 29,
   "metadata": {},
   "outputs": [],
   "source": [
    "scaled = pd.DataFrame(scaler, columns=feats)\n",
    "if label==1:\n",
    "    scaled['Label'] = labeled"
   ]
  },
  {
   "cell_type": "code",
   "execution_count": 30,
   "metadata": {},
   "outputs": [
    {
     "data": {
      "application/vnd.plotly.v1+json": {
       "config": {
        "plotlyServerURL": "https://plot.ly"
       },
       "data": [
        {
         "diagonal": {
          "visible": true
         },
         "dimensions": [
          {
           "axis": {
            "matches": true
           },
           "label": "A",
           "values": [
            2.04939015319192,
            1.4638501094227998,
            0.8783100656536799,
            0.6831300510639733,
            1.4638501094227998,
            0.8783100656536799,
            0.6831300510639733,
            0.29277002188455997,
            0.8783100656536799,
            0.6831300510639733,
            0.29277002188455997,
            0.8783100656536799,
            0.6831300510639733,
            0.29277002188455997,
            -0.29277002188455997,
            0.29277002188455997,
            -0.29277002188455997,
            -0.6831300510639733,
            -0.8783100656536799,
            -0.29277002188455997,
            -0.6831300510639733,
            -0.8783100656536799,
            -0.29277002188455997,
            -0.6831300510639733,
            -0.8783100656536799,
            -1.4638501094227998,
            -0.6831300510639733,
            -0.8783100656536799,
            -1.4638501094227998,
            -2.04939015319192
           ]
          },
          {
           "axis": {
            "matches": true
           },
           "label": "B",
           "values": [
            -2.04939015319192,
            -1.4638501094227998,
            -0.8783100656536799,
            -0.6831300510639733,
            -1.4638501094227998,
            -0.8783100656536799,
            -0.6831300510639733,
            -0.29277002188455997,
            -0.8783100656536799,
            -0.6831300510639733,
            -0.29277002188455997,
            -0.8783100656536799,
            -0.6831300510639733,
            -0.29277002188455997,
            0.29277002188455997,
            -0.29277002188455997,
            0.29277002188455997,
            0.6831300510639733,
            0.8783100656536799,
            0.29277002188455997,
            0.6831300510639733,
            0.8783100656536799,
            0.29277002188455997,
            0.6831300510639733,
            0.8783100656536799,
            1.4638501094227998,
            0.6831300510639733,
            0.8783100656536799,
            1.4638501094227998,
            2.04939015319192
           ]
          },
          {
           "axis": {
            "matches": true
           },
           "label": "C",
           "values": [
            -1.2657724268257158,
            0.3616492648073474,
            1.2657724268257158,
            1.6876965691009542,
            0,
            0.9041231620183684,
            1.326047304293607,
            1.9890709564404105,
            0.542473897211021,
            0.9643980394862596,
            1.2657724268257158,
            0.1808246324036737,
            0.6027487746789123,
            1.2657724268257158,
            1.627421691633063,
            -0.9041231620183684,
            -0.542473897211021,
            -0.1808246324036737,
            0,
            -0.542473897211021,
            -0.542473897211021,
            -0.3616492648073474,
            -1.2657724268257158,
            -0.9041231620183684,
            -0.7232985296146948,
            -0.9041231620183684,
            -1.2657724268257158,
            -1.084947794422042,
            -1.2657724268257158,
            -1.2657724268257158
           ]
          }
         ],
         "hovertemplate": "Label=NO<br>%{xaxis.title.text}=%{x}<br>%{yaxis.title.text}=%{y}<extra></extra>",
         "legendgroup": "NO",
         "marker": {
          "color": "#636efa",
          "symbol": "circle"
         },
         "name": "NO",
         "showlegend": true,
         "type": "splom"
        },
        {
         "diagonal": {
          "visible": true
         },
         "dimensions": [
          {
           "axis": {
            "matches": true
           },
           "label": "A",
           "values": [
            1.8542101386022132,
            1.6590301240125065,
            1.2686700948330931,
            1.0734900802433864,
            1.6590301240125065,
            1.2686700948330931,
            1.0734900802433864,
            0.4879500364742666,
            1.2686700948330931,
            1.0734900802433864,
            0.4879500364742666,
            0.09759000729485333,
            -0.09759000729485333,
            0.4879500364742666,
            0.09759000729485333,
            -0.09759000729485333,
            -0.4879500364742666,
            0.4879500364742666,
            0.09759000729485333,
            -0.09759000729485333,
            -0.4879500364742666,
            0.09759000729485333,
            -0.09759000729485333,
            -0.4879500364742666,
            -1.0734900802433864,
            -1.2686700948330931,
            -0.4879500364742666,
            -1.0734900802433864,
            -1.2686700948330931,
            -1.6590301240125065,
            -1.0734900802433864,
            -1.2686700948330931,
            -1.6590301240125065,
            -1.8542101386022132
           ]
          },
          {
           "axis": {
            "matches": true
           },
           "label": "B",
           "values": [
            -1.8542101386022132,
            -1.6590301240125065,
            -1.2686700948330931,
            -1.0734900802433864,
            -1.6590301240125065,
            -1.2686700948330931,
            -1.0734900802433864,
            -0.4879500364742666,
            -1.2686700948330931,
            -1.0734900802433864,
            -0.4879500364742666,
            -0.09759000729485333,
            0.09759000729485333,
            -0.4879500364742666,
            -0.09759000729485333,
            0.09759000729485333,
            0.4879500364742666,
            -0.4879500364742666,
            -0.09759000729485333,
            0.09759000729485333,
            0.4879500364742666,
            -0.09759000729485333,
            0.09759000729485333,
            0.4879500364742666,
            1.0734900802433864,
            1.2686700948330931,
            0.4879500364742666,
            1.0734900802433864,
            1.2686700948330931,
            1.6590301240125065,
            1.0734900802433864,
            1.2686700948330931,
            1.6590301240125065,
            1.8542101386022132
           ]
          },
          {
           "axis": {
            "matches": true
           },
           "label": "C",
           "values": [
            -0.6630236521468035,
            -0.1808246324036737,
            0.42192414227523856,
            0.9041231620183684,
            -0.542473897211021,
            0.42192414227523856,
            0.9041231620183684,
            1.627421691633063,
            -0.30137438733945615,
            0.1808246324036737,
            0.9041231620183684,
            1.5068719366972807,
            1.8082463240367368,
            0.9041231620183684,
            1.1452226718899332,
            1.4465970592293895,
            1.868521201504628,
            -1.2657724268257158,
            -0.6630236521468035,
            -0.3616492648073474,
            -0.30137438733945615,
            -1.0246729169541509,
            -0.7232985296146948,
            -0.30137438733945615,
            -0.30137438733945615,
            -0.1808246324036737,
            -1.0246729169541509,
            -1.0246729169541509,
            -0.9041231620183684,
            -0.8438482845504771,
            -1.0246729169541509,
            -0.9041231620183684,
            -1.2054975493578246,
            -1.2657724268257158
           ]
          }
         ],
         "hovertemplate": "Label=YES<br>%{xaxis.title.text}=%{x}<br>%{yaxis.title.text}=%{y}<extra></extra>",
         "legendgroup": "YES",
         "marker": {
          "color": "#EF553B",
          "symbol": "circle"
         },
         "name": "YES",
         "showlegend": true,
         "type": "splom"
        }
       ],
       "layout": {
        "dragmode": "select",
        "legend": {
         "title": {
          "text": "Label"
         },
         "tracegroupgap": 0
        },
        "margin": {
         "t": 60
        },
        "template": {
         "data": {
          "bar": [
           {
            "error_x": {
             "color": "#2a3f5f"
            },
            "error_y": {
             "color": "#2a3f5f"
            },
            "marker": {
             "line": {
              "color": "#E5ECF6",
              "width": 0.5
             },
             "pattern": {
              "fillmode": "overlay",
              "size": 10,
              "solidity": 0.2
             }
            },
            "type": "bar"
           }
          ],
          "barpolar": [
           {
            "marker": {
             "line": {
              "color": "#E5ECF6",
              "width": 0.5
             },
             "pattern": {
              "fillmode": "overlay",
              "size": 10,
              "solidity": 0.2
             }
            },
            "type": "barpolar"
           }
          ],
          "carpet": [
           {
            "aaxis": {
             "endlinecolor": "#2a3f5f",
             "gridcolor": "white",
             "linecolor": "white",
             "minorgridcolor": "white",
             "startlinecolor": "#2a3f5f"
            },
            "baxis": {
             "endlinecolor": "#2a3f5f",
             "gridcolor": "white",
             "linecolor": "white",
             "minorgridcolor": "white",
             "startlinecolor": "#2a3f5f"
            },
            "type": "carpet"
           }
          ],
          "choropleth": [
           {
            "colorbar": {
             "outlinewidth": 0,
             "ticks": ""
            },
            "type": "choropleth"
           }
          ],
          "contour": [
           {
            "colorbar": {
             "outlinewidth": 0,
             "ticks": ""
            },
            "colorscale": [
             [
              0,
              "#0d0887"
             ],
             [
              0.1111111111111111,
              "#46039f"
             ],
             [
              0.2222222222222222,
              "#7201a8"
             ],
             [
              0.3333333333333333,
              "#9c179e"
             ],
             [
              0.4444444444444444,
              "#bd3786"
             ],
             [
              0.5555555555555556,
              "#d8576b"
             ],
             [
              0.6666666666666666,
              "#ed7953"
             ],
             [
              0.7777777777777778,
              "#fb9f3a"
             ],
             [
              0.8888888888888888,
              "#fdca26"
             ],
             [
              1,
              "#f0f921"
             ]
            ],
            "type": "contour"
           }
          ],
          "contourcarpet": [
           {
            "colorbar": {
             "outlinewidth": 0,
             "ticks": ""
            },
            "type": "contourcarpet"
           }
          ],
          "heatmap": [
           {
            "colorbar": {
             "outlinewidth": 0,
             "ticks": ""
            },
            "colorscale": [
             [
              0,
              "#0d0887"
             ],
             [
              0.1111111111111111,
              "#46039f"
             ],
             [
              0.2222222222222222,
              "#7201a8"
             ],
             [
              0.3333333333333333,
              "#9c179e"
             ],
             [
              0.4444444444444444,
              "#bd3786"
             ],
             [
              0.5555555555555556,
              "#d8576b"
             ],
             [
              0.6666666666666666,
              "#ed7953"
             ],
             [
              0.7777777777777778,
              "#fb9f3a"
             ],
             [
              0.8888888888888888,
              "#fdca26"
             ],
             [
              1,
              "#f0f921"
             ]
            ],
            "type": "heatmap"
           }
          ],
          "heatmapgl": [
           {
            "colorbar": {
             "outlinewidth": 0,
             "ticks": ""
            },
            "colorscale": [
             [
              0,
              "#0d0887"
             ],
             [
              0.1111111111111111,
              "#46039f"
             ],
             [
              0.2222222222222222,
              "#7201a8"
             ],
             [
              0.3333333333333333,
              "#9c179e"
             ],
             [
              0.4444444444444444,
              "#bd3786"
             ],
             [
              0.5555555555555556,
              "#d8576b"
             ],
             [
              0.6666666666666666,
              "#ed7953"
             ],
             [
              0.7777777777777778,
              "#fb9f3a"
             ],
             [
              0.8888888888888888,
              "#fdca26"
             ],
             [
              1,
              "#f0f921"
             ]
            ],
            "type": "heatmapgl"
           }
          ],
          "histogram": [
           {
            "marker": {
             "pattern": {
              "fillmode": "overlay",
              "size": 10,
              "solidity": 0.2
             }
            },
            "type": "histogram"
           }
          ],
          "histogram2d": [
           {
            "colorbar": {
             "outlinewidth": 0,
             "ticks": ""
            },
            "colorscale": [
             [
              0,
              "#0d0887"
             ],
             [
              0.1111111111111111,
              "#46039f"
             ],
             [
              0.2222222222222222,
              "#7201a8"
             ],
             [
              0.3333333333333333,
              "#9c179e"
             ],
             [
              0.4444444444444444,
              "#bd3786"
             ],
             [
              0.5555555555555556,
              "#d8576b"
             ],
             [
              0.6666666666666666,
              "#ed7953"
             ],
             [
              0.7777777777777778,
              "#fb9f3a"
             ],
             [
              0.8888888888888888,
              "#fdca26"
             ],
             [
              1,
              "#f0f921"
             ]
            ],
            "type": "histogram2d"
           }
          ],
          "histogram2dcontour": [
           {
            "colorbar": {
             "outlinewidth": 0,
             "ticks": ""
            },
            "colorscale": [
             [
              0,
              "#0d0887"
             ],
             [
              0.1111111111111111,
              "#46039f"
             ],
             [
              0.2222222222222222,
              "#7201a8"
             ],
             [
              0.3333333333333333,
              "#9c179e"
             ],
             [
              0.4444444444444444,
              "#bd3786"
             ],
             [
              0.5555555555555556,
              "#d8576b"
             ],
             [
              0.6666666666666666,
              "#ed7953"
             ],
             [
              0.7777777777777778,
              "#fb9f3a"
             ],
             [
              0.8888888888888888,
              "#fdca26"
             ],
             [
              1,
              "#f0f921"
             ]
            ],
            "type": "histogram2dcontour"
           }
          ],
          "mesh3d": [
           {
            "colorbar": {
             "outlinewidth": 0,
             "ticks": ""
            },
            "type": "mesh3d"
           }
          ],
          "parcoords": [
           {
            "line": {
             "colorbar": {
              "outlinewidth": 0,
              "ticks": ""
             }
            },
            "type": "parcoords"
           }
          ],
          "pie": [
           {
            "automargin": true,
            "type": "pie"
           }
          ],
          "scatter": [
           {
            "fillpattern": {
             "fillmode": "overlay",
             "size": 10,
             "solidity": 0.2
            },
            "type": "scatter"
           }
          ],
          "scatter3d": [
           {
            "line": {
             "colorbar": {
              "outlinewidth": 0,
              "ticks": ""
             }
            },
            "marker": {
             "colorbar": {
              "outlinewidth": 0,
              "ticks": ""
             }
            },
            "type": "scatter3d"
           }
          ],
          "scattercarpet": [
           {
            "marker": {
             "colorbar": {
              "outlinewidth": 0,
              "ticks": ""
             }
            },
            "type": "scattercarpet"
           }
          ],
          "scattergeo": [
           {
            "marker": {
             "colorbar": {
              "outlinewidth": 0,
              "ticks": ""
             }
            },
            "type": "scattergeo"
           }
          ],
          "scattergl": [
           {
            "marker": {
             "colorbar": {
              "outlinewidth": 0,
              "ticks": ""
             }
            },
            "type": "scattergl"
           }
          ],
          "scattermapbox": [
           {
            "marker": {
             "colorbar": {
              "outlinewidth": 0,
              "ticks": ""
             }
            },
            "type": "scattermapbox"
           }
          ],
          "scatterpolar": [
           {
            "marker": {
             "colorbar": {
              "outlinewidth": 0,
              "ticks": ""
             }
            },
            "type": "scatterpolar"
           }
          ],
          "scatterpolargl": [
           {
            "marker": {
             "colorbar": {
              "outlinewidth": 0,
              "ticks": ""
             }
            },
            "type": "scatterpolargl"
           }
          ],
          "scatterternary": [
           {
            "marker": {
             "colorbar": {
              "outlinewidth": 0,
              "ticks": ""
             }
            },
            "type": "scatterternary"
           }
          ],
          "surface": [
           {
            "colorbar": {
             "outlinewidth": 0,
             "ticks": ""
            },
            "colorscale": [
             [
              0,
              "#0d0887"
             ],
             [
              0.1111111111111111,
              "#46039f"
             ],
             [
              0.2222222222222222,
              "#7201a8"
             ],
             [
              0.3333333333333333,
              "#9c179e"
             ],
             [
              0.4444444444444444,
              "#bd3786"
             ],
             [
              0.5555555555555556,
              "#d8576b"
             ],
             [
              0.6666666666666666,
              "#ed7953"
             ],
             [
              0.7777777777777778,
              "#fb9f3a"
             ],
             [
              0.8888888888888888,
              "#fdca26"
             ],
             [
              1,
              "#f0f921"
             ]
            ],
            "type": "surface"
           }
          ],
          "table": [
           {
            "cells": {
             "fill": {
              "color": "#EBF0F8"
             },
             "line": {
              "color": "white"
             }
            },
            "header": {
             "fill": {
              "color": "#C8D4E3"
             },
             "line": {
              "color": "white"
             }
            },
            "type": "table"
           }
          ]
         },
         "layout": {
          "annotationdefaults": {
           "arrowcolor": "#2a3f5f",
           "arrowhead": 0,
           "arrowwidth": 1
          },
          "autotypenumbers": "strict",
          "coloraxis": {
           "colorbar": {
            "outlinewidth": 0,
            "ticks": ""
           }
          },
          "colorscale": {
           "diverging": [
            [
             0,
             "#8e0152"
            ],
            [
             0.1,
             "#c51b7d"
            ],
            [
             0.2,
             "#de77ae"
            ],
            [
             0.3,
             "#f1b6da"
            ],
            [
             0.4,
             "#fde0ef"
            ],
            [
             0.5,
             "#f7f7f7"
            ],
            [
             0.6,
             "#e6f5d0"
            ],
            [
             0.7,
             "#b8e186"
            ],
            [
             0.8,
             "#7fbc41"
            ],
            [
             0.9,
             "#4d9221"
            ],
            [
             1,
             "#276419"
            ]
           ],
           "sequential": [
            [
             0,
             "#0d0887"
            ],
            [
             0.1111111111111111,
             "#46039f"
            ],
            [
             0.2222222222222222,
             "#7201a8"
            ],
            [
             0.3333333333333333,
             "#9c179e"
            ],
            [
             0.4444444444444444,
             "#bd3786"
            ],
            [
             0.5555555555555556,
             "#d8576b"
            ],
            [
             0.6666666666666666,
             "#ed7953"
            ],
            [
             0.7777777777777778,
             "#fb9f3a"
            ],
            [
             0.8888888888888888,
             "#fdca26"
            ],
            [
             1,
             "#f0f921"
            ]
           ],
           "sequentialminus": [
            [
             0,
             "#0d0887"
            ],
            [
             0.1111111111111111,
             "#46039f"
            ],
            [
             0.2222222222222222,
             "#7201a8"
            ],
            [
             0.3333333333333333,
             "#9c179e"
            ],
            [
             0.4444444444444444,
             "#bd3786"
            ],
            [
             0.5555555555555556,
             "#d8576b"
            ],
            [
             0.6666666666666666,
             "#ed7953"
            ],
            [
             0.7777777777777778,
             "#fb9f3a"
            ],
            [
             0.8888888888888888,
             "#fdca26"
            ],
            [
             1,
             "#f0f921"
            ]
           ]
          },
          "colorway": [
           "#636efa",
           "#EF553B",
           "#00cc96",
           "#ab63fa",
           "#FFA15A",
           "#19d3f3",
           "#FF6692",
           "#B6E880",
           "#FF97FF",
           "#FECB52"
          ],
          "font": {
           "color": "#2a3f5f"
          },
          "geo": {
           "bgcolor": "white",
           "lakecolor": "white",
           "landcolor": "#E5ECF6",
           "showlakes": true,
           "showland": true,
           "subunitcolor": "white"
          },
          "hoverlabel": {
           "align": "left"
          },
          "hovermode": "closest",
          "mapbox": {
           "style": "light"
          },
          "paper_bgcolor": "white",
          "plot_bgcolor": "#E5ECF6",
          "polar": {
           "angularaxis": {
            "gridcolor": "white",
            "linecolor": "white",
            "ticks": ""
           },
           "bgcolor": "#E5ECF6",
           "radialaxis": {
            "gridcolor": "white",
            "linecolor": "white",
            "ticks": ""
           }
          },
          "scene": {
           "xaxis": {
            "backgroundcolor": "#E5ECF6",
            "gridcolor": "white",
            "gridwidth": 2,
            "linecolor": "white",
            "showbackground": true,
            "ticks": "",
            "zerolinecolor": "white"
           },
           "yaxis": {
            "backgroundcolor": "#E5ECF6",
            "gridcolor": "white",
            "gridwidth": 2,
            "linecolor": "white",
            "showbackground": true,
            "ticks": "",
            "zerolinecolor": "white"
           },
           "zaxis": {
            "backgroundcolor": "#E5ECF6",
            "gridcolor": "white",
            "gridwidth": 2,
            "linecolor": "white",
            "showbackground": true,
            "ticks": "",
            "zerolinecolor": "white"
           }
          },
          "shapedefaults": {
           "line": {
            "color": "#2a3f5f"
           }
          },
          "ternary": {
           "aaxis": {
            "gridcolor": "white",
            "linecolor": "white",
            "ticks": ""
           },
           "baxis": {
            "gridcolor": "white",
            "linecolor": "white",
            "ticks": ""
           },
           "bgcolor": "#E5ECF6",
           "caxis": {
            "gridcolor": "white",
            "linecolor": "white",
            "ticks": ""
           }
          },
          "title": {
           "x": 0.05
          },
          "xaxis": {
           "automargin": true,
           "gridcolor": "white",
           "linecolor": "white",
           "ticks": "",
           "title": {
            "standoff": 15
           },
           "zerolinecolor": "white",
           "zerolinewidth": 2
          },
          "yaxis": {
           "automargin": true,
           "gridcolor": "white",
           "linecolor": "white",
           "ticks": "",
           "title": {
            "standoff": 15
           },
           "zerolinecolor": "white",
           "zerolinewidth": 2
          }
         }
        }
       }
      },
      "text/html": [
       "<div>                            <div id=\"6666f808-0583-4e60-9553-6d41b8a8540a\" class=\"plotly-graph-div\" style=\"height:525px; width:100%;\"></div>            <script type=\"text/javascript\">                require([\"plotly\"], function(Plotly) {                    window.PLOTLYENV=window.PLOTLYENV || {};                                    if (document.getElementById(\"6666f808-0583-4e60-9553-6d41b8a8540a\")) {                    Plotly.newPlot(                        \"6666f808-0583-4e60-9553-6d41b8a8540a\",                        [{\"dimensions\":[{\"axis\":{\"matches\":true},\"label\":\"A\",\"values\":[2.04939015319192,1.4638501094227998,0.8783100656536799,0.6831300510639733,1.4638501094227998,0.8783100656536799,0.6831300510639733,0.29277002188455997,0.8783100656536799,0.6831300510639733,0.29277002188455997,0.8783100656536799,0.6831300510639733,0.29277002188455997,-0.29277002188455997,0.29277002188455997,-0.29277002188455997,-0.6831300510639733,-0.8783100656536799,-0.29277002188455997,-0.6831300510639733,-0.8783100656536799,-0.29277002188455997,-0.6831300510639733,-0.8783100656536799,-1.4638501094227998,-0.6831300510639733,-0.8783100656536799,-1.4638501094227998,-2.04939015319192]},{\"axis\":{\"matches\":true},\"label\":\"B\",\"values\":[-2.04939015319192,-1.4638501094227998,-0.8783100656536799,-0.6831300510639733,-1.4638501094227998,-0.8783100656536799,-0.6831300510639733,-0.29277002188455997,-0.8783100656536799,-0.6831300510639733,-0.29277002188455997,-0.8783100656536799,-0.6831300510639733,-0.29277002188455997,0.29277002188455997,-0.29277002188455997,0.29277002188455997,0.6831300510639733,0.8783100656536799,0.29277002188455997,0.6831300510639733,0.8783100656536799,0.29277002188455997,0.6831300510639733,0.8783100656536799,1.4638501094227998,0.6831300510639733,0.8783100656536799,1.4638501094227998,2.04939015319192]},{\"axis\":{\"matches\":true},\"label\":\"C\",\"values\":[-1.2657724268257158,0.3616492648073474,1.2657724268257158,1.6876965691009542,0.0,0.9041231620183684,1.326047304293607,1.9890709564404105,0.542473897211021,0.9643980394862596,1.2657724268257158,0.1808246324036737,0.6027487746789123,1.2657724268257158,1.627421691633063,-0.9041231620183684,-0.542473897211021,-0.1808246324036737,0.0,-0.542473897211021,-0.542473897211021,-0.3616492648073474,-1.2657724268257158,-0.9041231620183684,-0.7232985296146948,-0.9041231620183684,-1.2657724268257158,-1.084947794422042,-1.2657724268257158,-1.2657724268257158]}],\"hovertemplate\":\"Label=NO<br>%{xaxis.title.text}=%{x}<br>%{yaxis.title.text}=%{y}<extra></extra>\",\"legendgroup\":\"NO\",\"marker\":{\"color\":\"#636efa\",\"symbol\":\"circle\"},\"name\":\"NO\",\"showlegend\":true,\"type\":\"splom\",\"diagonal\":{\"visible\":true}},{\"dimensions\":[{\"axis\":{\"matches\":true},\"label\":\"A\",\"values\":[1.8542101386022132,1.6590301240125065,1.2686700948330931,1.0734900802433864,1.6590301240125065,1.2686700948330931,1.0734900802433864,0.4879500364742666,1.2686700948330931,1.0734900802433864,0.4879500364742666,0.09759000729485333,-0.09759000729485333,0.4879500364742666,0.09759000729485333,-0.09759000729485333,-0.4879500364742666,0.4879500364742666,0.09759000729485333,-0.09759000729485333,-0.4879500364742666,0.09759000729485333,-0.09759000729485333,-0.4879500364742666,-1.0734900802433864,-1.2686700948330931,-0.4879500364742666,-1.0734900802433864,-1.2686700948330931,-1.6590301240125065,-1.0734900802433864,-1.2686700948330931,-1.6590301240125065,-1.8542101386022132]},{\"axis\":{\"matches\":true},\"label\":\"B\",\"values\":[-1.8542101386022132,-1.6590301240125065,-1.2686700948330931,-1.0734900802433864,-1.6590301240125065,-1.2686700948330931,-1.0734900802433864,-0.4879500364742666,-1.2686700948330931,-1.0734900802433864,-0.4879500364742666,-0.09759000729485333,0.09759000729485333,-0.4879500364742666,-0.09759000729485333,0.09759000729485333,0.4879500364742666,-0.4879500364742666,-0.09759000729485333,0.09759000729485333,0.4879500364742666,-0.09759000729485333,0.09759000729485333,0.4879500364742666,1.0734900802433864,1.2686700948330931,0.4879500364742666,1.0734900802433864,1.2686700948330931,1.6590301240125065,1.0734900802433864,1.2686700948330931,1.6590301240125065,1.8542101386022132]},{\"axis\":{\"matches\":true},\"label\":\"C\",\"values\":[-0.6630236521468035,-0.1808246324036737,0.42192414227523856,0.9041231620183684,-0.542473897211021,0.42192414227523856,0.9041231620183684,1.627421691633063,-0.30137438733945615,0.1808246324036737,0.9041231620183684,1.5068719366972807,1.8082463240367368,0.9041231620183684,1.1452226718899332,1.4465970592293895,1.868521201504628,-1.2657724268257158,-0.6630236521468035,-0.3616492648073474,-0.30137438733945615,-1.0246729169541509,-0.7232985296146948,-0.30137438733945615,-0.30137438733945615,-0.1808246324036737,-1.0246729169541509,-1.0246729169541509,-0.9041231620183684,-0.8438482845504771,-1.0246729169541509,-0.9041231620183684,-1.2054975493578246,-1.2657724268257158]}],\"hovertemplate\":\"Label=YES<br>%{xaxis.title.text}=%{x}<br>%{yaxis.title.text}=%{y}<extra></extra>\",\"legendgroup\":\"YES\",\"marker\":{\"color\":\"#EF553B\",\"symbol\":\"circle\"},\"name\":\"YES\",\"showlegend\":true,\"type\":\"splom\",\"diagonal\":{\"visible\":true}}],                        {\"template\":{\"data\":{\"histogram2dcontour\":[{\"type\":\"histogram2dcontour\",\"colorbar\":{\"outlinewidth\":0,\"ticks\":\"\"},\"colorscale\":[[0.0,\"#0d0887\"],[0.1111111111111111,\"#46039f\"],[0.2222222222222222,\"#7201a8\"],[0.3333333333333333,\"#9c179e\"],[0.4444444444444444,\"#bd3786\"],[0.5555555555555556,\"#d8576b\"],[0.6666666666666666,\"#ed7953\"],[0.7777777777777778,\"#fb9f3a\"],[0.8888888888888888,\"#fdca26\"],[1.0,\"#f0f921\"]]}],\"choropleth\":[{\"type\":\"choropleth\",\"colorbar\":{\"outlinewidth\":0,\"ticks\":\"\"}}],\"histogram2d\":[{\"type\":\"histogram2d\",\"colorbar\":{\"outlinewidth\":0,\"ticks\":\"\"},\"colorscale\":[[0.0,\"#0d0887\"],[0.1111111111111111,\"#46039f\"],[0.2222222222222222,\"#7201a8\"],[0.3333333333333333,\"#9c179e\"],[0.4444444444444444,\"#bd3786\"],[0.5555555555555556,\"#d8576b\"],[0.6666666666666666,\"#ed7953\"],[0.7777777777777778,\"#fb9f3a\"],[0.8888888888888888,\"#fdca26\"],[1.0,\"#f0f921\"]]}],\"heatmap\":[{\"type\":\"heatmap\",\"colorbar\":{\"outlinewidth\":0,\"ticks\":\"\"},\"colorscale\":[[0.0,\"#0d0887\"],[0.1111111111111111,\"#46039f\"],[0.2222222222222222,\"#7201a8\"],[0.3333333333333333,\"#9c179e\"],[0.4444444444444444,\"#bd3786\"],[0.5555555555555556,\"#d8576b\"],[0.6666666666666666,\"#ed7953\"],[0.7777777777777778,\"#fb9f3a\"],[0.8888888888888888,\"#fdca26\"],[1.0,\"#f0f921\"]]}],\"heatmapgl\":[{\"type\":\"heatmapgl\",\"colorbar\":{\"outlinewidth\":0,\"ticks\":\"\"},\"colorscale\":[[0.0,\"#0d0887\"],[0.1111111111111111,\"#46039f\"],[0.2222222222222222,\"#7201a8\"],[0.3333333333333333,\"#9c179e\"],[0.4444444444444444,\"#bd3786\"],[0.5555555555555556,\"#d8576b\"],[0.6666666666666666,\"#ed7953\"],[0.7777777777777778,\"#fb9f3a\"],[0.8888888888888888,\"#fdca26\"],[1.0,\"#f0f921\"]]}],\"contourcarpet\":[{\"type\":\"contourcarpet\",\"colorbar\":{\"outlinewidth\":0,\"ticks\":\"\"}}],\"contour\":[{\"type\":\"contour\",\"colorbar\":{\"outlinewidth\":0,\"ticks\":\"\"},\"colorscale\":[[0.0,\"#0d0887\"],[0.1111111111111111,\"#46039f\"],[0.2222222222222222,\"#7201a8\"],[0.3333333333333333,\"#9c179e\"],[0.4444444444444444,\"#bd3786\"],[0.5555555555555556,\"#d8576b\"],[0.6666666666666666,\"#ed7953\"],[0.7777777777777778,\"#fb9f3a\"],[0.8888888888888888,\"#fdca26\"],[1.0,\"#f0f921\"]]}],\"surface\":[{\"type\":\"surface\",\"colorbar\":{\"outlinewidth\":0,\"ticks\":\"\"},\"colorscale\":[[0.0,\"#0d0887\"],[0.1111111111111111,\"#46039f\"],[0.2222222222222222,\"#7201a8\"],[0.3333333333333333,\"#9c179e\"],[0.4444444444444444,\"#bd3786\"],[0.5555555555555556,\"#d8576b\"],[0.6666666666666666,\"#ed7953\"],[0.7777777777777778,\"#fb9f3a\"],[0.8888888888888888,\"#fdca26\"],[1.0,\"#f0f921\"]]}],\"mesh3d\":[{\"type\":\"mesh3d\",\"colorbar\":{\"outlinewidth\":0,\"ticks\":\"\"}}],\"scatter\":[{\"fillpattern\":{\"fillmode\":\"overlay\",\"size\":10,\"solidity\":0.2},\"type\":\"scatter\"}],\"parcoords\":[{\"type\":\"parcoords\",\"line\":{\"colorbar\":{\"outlinewidth\":0,\"ticks\":\"\"}}}],\"scatterpolargl\":[{\"type\":\"scatterpolargl\",\"marker\":{\"colorbar\":{\"outlinewidth\":0,\"ticks\":\"\"}}}],\"bar\":[{\"error_x\":{\"color\":\"#2a3f5f\"},\"error_y\":{\"color\":\"#2a3f5f\"},\"marker\":{\"line\":{\"color\":\"#E5ECF6\",\"width\":0.5},\"pattern\":{\"fillmode\":\"overlay\",\"size\":10,\"solidity\":0.2}},\"type\":\"bar\"}],\"scattergeo\":[{\"type\":\"scattergeo\",\"marker\":{\"colorbar\":{\"outlinewidth\":0,\"ticks\":\"\"}}}],\"scatterpolar\":[{\"type\":\"scatterpolar\",\"marker\":{\"colorbar\":{\"outlinewidth\":0,\"ticks\":\"\"}}}],\"histogram\":[{\"marker\":{\"pattern\":{\"fillmode\":\"overlay\",\"size\":10,\"solidity\":0.2}},\"type\":\"histogram\"}],\"scattergl\":[{\"type\":\"scattergl\",\"marker\":{\"colorbar\":{\"outlinewidth\":0,\"ticks\":\"\"}}}],\"scatter3d\":[{\"type\":\"scatter3d\",\"line\":{\"colorbar\":{\"outlinewidth\":0,\"ticks\":\"\"}},\"marker\":{\"colorbar\":{\"outlinewidth\":0,\"ticks\":\"\"}}}],\"scattermapbox\":[{\"type\":\"scattermapbox\",\"marker\":{\"colorbar\":{\"outlinewidth\":0,\"ticks\":\"\"}}}],\"scatterternary\":[{\"type\":\"scatterternary\",\"marker\":{\"colorbar\":{\"outlinewidth\":0,\"ticks\":\"\"}}}],\"scattercarpet\":[{\"type\":\"scattercarpet\",\"marker\":{\"colorbar\":{\"outlinewidth\":0,\"ticks\":\"\"}}}],\"carpet\":[{\"aaxis\":{\"endlinecolor\":\"#2a3f5f\",\"gridcolor\":\"white\",\"linecolor\":\"white\",\"minorgridcolor\":\"white\",\"startlinecolor\":\"#2a3f5f\"},\"baxis\":{\"endlinecolor\":\"#2a3f5f\",\"gridcolor\":\"white\",\"linecolor\":\"white\",\"minorgridcolor\":\"white\",\"startlinecolor\":\"#2a3f5f\"},\"type\":\"carpet\"}],\"table\":[{\"cells\":{\"fill\":{\"color\":\"#EBF0F8\"},\"line\":{\"color\":\"white\"}},\"header\":{\"fill\":{\"color\":\"#C8D4E3\"},\"line\":{\"color\":\"white\"}},\"type\":\"table\"}],\"barpolar\":[{\"marker\":{\"line\":{\"color\":\"#E5ECF6\",\"width\":0.5},\"pattern\":{\"fillmode\":\"overlay\",\"size\":10,\"solidity\":0.2}},\"type\":\"barpolar\"}],\"pie\":[{\"automargin\":true,\"type\":\"pie\"}]},\"layout\":{\"autotypenumbers\":\"strict\",\"colorway\":[\"#636efa\",\"#EF553B\",\"#00cc96\",\"#ab63fa\",\"#FFA15A\",\"#19d3f3\",\"#FF6692\",\"#B6E880\",\"#FF97FF\",\"#FECB52\"],\"font\":{\"color\":\"#2a3f5f\"},\"hovermode\":\"closest\",\"hoverlabel\":{\"align\":\"left\"},\"paper_bgcolor\":\"white\",\"plot_bgcolor\":\"#E5ECF6\",\"polar\":{\"bgcolor\":\"#E5ECF6\",\"angularaxis\":{\"gridcolor\":\"white\",\"linecolor\":\"white\",\"ticks\":\"\"},\"radialaxis\":{\"gridcolor\":\"white\",\"linecolor\":\"white\",\"ticks\":\"\"}},\"ternary\":{\"bgcolor\":\"#E5ECF6\",\"aaxis\":{\"gridcolor\":\"white\",\"linecolor\":\"white\",\"ticks\":\"\"},\"baxis\":{\"gridcolor\":\"white\",\"linecolor\":\"white\",\"ticks\":\"\"},\"caxis\":{\"gridcolor\":\"white\",\"linecolor\":\"white\",\"ticks\":\"\"}},\"coloraxis\":{\"colorbar\":{\"outlinewidth\":0,\"ticks\":\"\"}},\"colorscale\":{\"sequential\":[[0.0,\"#0d0887\"],[0.1111111111111111,\"#46039f\"],[0.2222222222222222,\"#7201a8\"],[0.3333333333333333,\"#9c179e\"],[0.4444444444444444,\"#bd3786\"],[0.5555555555555556,\"#d8576b\"],[0.6666666666666666,\"#ed7953\"],[0.7777777777777778,\"#fb9f3a\"],[0.8888888888888888,\"#fdca26\"],[1.0,\"#f0f921\"]],\"sequentialminus\":[[0.0,\"#0d0887\"],[0.1111111111111111,\"#46039f\"],[0.2222222222222222,\"#7201a8\"],[0.3333333333333333,\"#9c179e\"],[0.4444444444444444,\"#bd3786\"],[0.5555555555555556,\"#d8576b\"],[0.6666666666666666,\"#ed7953\"],[0.7777777777777778,\"#fb9f3a\"],[0.8888888888888888,\"#fdca26\"],[1.0,\"#f0f921\"]],\"diverging\":[[0,\"#8e0152\"],[0.1,\"#c51b7d\"],[0.2,\"#de77ae\"],[0.3,\"#f1b6da\"],[0.4,\"#fde0ef\"],[0.5,\"#f7f7f7\"],[0.6,\"#e6f5d0\"],[0.7,\"#b8e186\"],[0.8,\"#7fbc41\"],[0.9,\"#4d9221\"],[1,\"#276419\"]]},\"xaxis\":{\"gridcolor\":\"white\",\"linecolor\":\"white\",\"ticks\":\"\",\"title\":{\"standoff\":15},\"zerolinecolor\":\"white\",\"automargin\":true,\"zerolinewidth\":2},\"yaxis\":{\"gridcolor\":\"white\",\"linecolor\":\"white\",\"ticks\":\"\",\"title\":{\"standoff\":15},\"zerolinecolor\":\"white\",\"automargin\":true,\"zerolinewidth\":2},\"scene\":{\"xaxis\":{\"backgroundcolor\":\"#E5ECF6\",\"gridcolor\":\"white\",\"linecolor\":\"white\",\"showbackground\":true,\"ticks\":\"\",\"zerolinecolor\":\"white\",\"gridwidth\":2},\"yaxis\":{\"backgroundcolor\":\"#E5ECF6\",\"gridcolor\":\"white\",\"linecolor\":\"white\",\"showbackground\":true,\"ticks\":\"\",\"zerolinecolor\":\"white\",\"gridwidth\":2},\"zaxis\":{\"backgroundcolor\":\"#E5ECF6\",\"gridcolor\":\"white\",\"linecolor\":\"white\",\"showbackground\":true,\"ticks\":\"\",\"zerolinecolor\":\"white\",\"gridwidth\":2}},\"shapedefaults\":{\"line\":{\"color\":\"#2a3f5f\"}},\"annotationdefaults\":{\"arrowcolor\":\"#2a3f5f\",\"arrowhead\":0,\"arrowwidth\":1},\"geo\":{\"bgcolor\":\"white\",\"landcolor\":\"#E5ECF6\",\"subunitcolor\":\"white\",\"showland\":true,\"showlakes\":true,\"lakecolor\":\"white\"},\"title\":{\"x\":0.05},\"mapbox\":{\"style\":\"light\"}}},\"legend\":{\"title\":{\"text\":\"Label\"},\"tracegroupgap\":0},\"margin\":{\"t\":60},\"dragmode\":\"select\"},                        {\"responsive\": true}                    ).then(function(){\n",
       "                            \n",
       "var gd = document.getElementById('6666f808-0583-4e60-9553-6d41b8a8540a');\n",
       "var x = new MutationObserver(function (mutations, observer) {{\n",
       "        var display = window.getComputedStyle(gd).display;\n",
       "        if (!display || display === 'none') {{\n",
       "            console.log([gd, 'removed!']);\n",
       "            Plotly.purge(gd);\n",
       "            observer.disconnect();\n",
       "        }}\n",
       "}});\n",
       "\n",
       "// Listen for the removal of the full notebook cells\n",
       "var notebookContainer = gd.closest('#notebook-container');\n",
       "if (notebookContainer) {{\n",
       "    x.observe(notebookContainer, {childList: true});\n",
       "}}\n",
       "\n",
       "// Listen for the clearing of the current output cell\n",
       "var outputEl = gd.closest('.output');\n",
       "if (outputEl) {{\n",
       "    x.observe(outputEl, {childList: true});\n",
       "}}\n",
       "\n",
       "                        })                };                });            </script>        </div>"
      ]
     },
     "metadata": {},
     "output_type": "display_data"
    }
   ],
   "source": [
    "#before applying PCA Visualization #Shivesh add this as title\n",
    "if label==1 and visualization==1 and len(feats)>components:\n",
    "    features = feats\n",
    "    fig = px.scatter_matrix(\n",
    "        scaled,\n",
    "        dimensions=features,\n",
    "        color=\"Label\"\n",
    "    )\n",
    "    fig.update_traces(diagonal_visible=True)\n",
    "    fig.show()"
   ]
  },
  {
   "cell_type": "code",
   "execution_count": 31,
   "metadata": {},
   "outputs": [],
   "source": [
    "from sklearn.decomposition import PCA\n",
    "def create_pca_label(X, y, n_components=None):\n",
    "    if (n_components != None):\n",
    "        pca = PCA(n_components)\n",
    "    else:\n",
    "        pca = PCA()\n",
    "    trans = pca.fit_transform(X)\n",
    "    trans = pd.DataFrame(trans)\n",
    "    trans['species'] = y\n",
    "    return pca, trans\n",
    "\n",
    "def create_pca(X, n_components=None):\n",
    "    if (n_components != None):\n",
    "        pca = PCA(n_components)\n",
    "    else:\n",
    "        pca = PCA()\n",
    "    trans = pca.fit_transform(X)\n",
    "    trans = pd.DataFrame(trans)\n",
    "    return pca, trans"
   ]
  },
  {
   "cell_type": "code",
   "execution_count": 32,
   "metadata": {},
   "outputs": [
    {
     "name": "stdout",
     "output_type": "stream",
     "text": [
      "[0.7568932 0.2431068]\n",
      "[[-0.64202376  0.64202376 -0.41905964]\n",
      " [ 0.29631992 -0.29631992 -0.90795871]]\n"
     ]
    }
   ],
   "source": [
    "if label==1:\n",
    "    X, y = scaled.drop(['Label'], axis=1), scaled['Label']\n",
    "\n",
    "    if len(feats)>components:\n",
    "        if components == 0:\n",
    "            components=None\n",
    "        pca1, trans1 = create_pca_label(X=X, y=y, n_components=components)\n",
    "        print(pca1.explained_variance_ratio_)#mention what it is : Shivesh\n",
    "        print(pca1.components_)# mention this to!\n",
    "    else:\n",
    "        print(\"No of Components entered is greater than number of input features.\")\n",
    "else:\n",
    "    X = scaled\n",
    "\n",
    "    if len(feats)>components:\n",
    "        if components == 0:\n",
    "            components=None\n",
    "        pca1, trans1 = create_pca(X=X, n_components=components)\n",
    "        print(pca1.explained_variance_ratio_)#mention what it is : Shivesh\n",
    "        print(pca1.components_)# mention this to!\n",
    "\n",
    "    "
   ]
  },
  {
   "cell_type": "code",
   "execution_count": 33,
   "metadata": {},
   "outputs": [
    {
     "data": {
      "application/vnd.plotly.v1+json": {
       "config": {
        "plotlyServerURL": "https://plot.ly"
       },
       "data": [
        {
         "diagonal": {
          "visible": true
         },
         "dimensions": [
          {
           "axis": {
            "matches": true
           },
           "label": "PC 1 (98.3%)",
           "values": [
            -0.4607241532643854,
            -0.3315601514494278,
            -0.20098388075087306,
            -0.15769383533195436,
            -0.33085401700762906,
            -0.20027774630907433,
            -0.15698770089015562,
            -0.07005454283141889,
            -0.19957161186727557,
            -0.1562815664483569,
            -0.06864227394782141,
            -0.19886547742547683,
            -0.15557543200655816,
            -0.06864227394782141,
            0.0629931984134315,
            -0.06440546729702898,
            0.06723000506422393,
            0.1547516084911263,
            0.19851241020457747,
            0.06723000506422393,
            0.15545774293292502,
            0.19921854464637623,
            0.06864227394782141,
            0.1561638773747238,
            0.19992467908817496,
            0.3326193531121259,
            0.1568700118165225,
            0.2006308135299737,
            0.33332548755392466,
            0.46566709435697634
           ]
          },
          {
           "axis": {
            "matches": true
           },
           "label": "PC 2 (1.7%)",
           "values": [
            0.06890259315117307,
            0.008275042138565454,
            -0.02895759697315178,
            -0.04526762866053926,
            0.019972498089010644,
            -0.01726014102270659,
            -0.03357017271009406,
            -0.06034150810964641,
            -0.005562685072261397,
            -0.021872716759648872,
            -0.03694659620875603,
            0.0061347708781837925,
            -0.010175260809203682,
            -0.03694659620875603,
            -0.0566330513948055,
            0.03323813949391511,
            0.013551684307865656,
            -0.0034717711329823723,
            -0.01198349885340639,
            0.013551684307865656,
            0.008225684817462817,
            -0.00028604290296119743,
            0.03694659620875603,
            0.019923140767908003,
            0.011411413047483993,
            0.009271141787102331,
            0.031620596718353204,
            0.02310886899792918,
            0.020968597737547525,
            0.012979598501943265
           ]
          },
          {
           "axis": {
            "matches": true
           },
           "label": "PC 3 (0.0%)",
           "values": [
            1.9796771078916817e-16,
            -1.0785496862666826e-17,
            -3.6656534582271905e-18,
            1.0357299345187176e-17,
            -1.3945318688645408e-17,
            -6.8254752842057705e-18,
            7.197477519208596e-18,
            1.3795226475657488e-17,
            -9.98529711018435e-18,
            4.037655693230016e-18,
            7.475582823700325e-18,
            -1.3145118936162931e-17,
            8.778338672514352e-19,
            7.475582823700325e-18,
            1.780299178412832e-17,
            -1.1483348132171156e-17,
            -1.1559391717431665e-18,
            2.8086249297235747e-18,
            1.4725029849152223e-17,
            -1.1559391717431665e-18,
            -3.5119689625500524e-19,
            1.1565208023173641e-17,
            -7.475582823700325e-18,
            -3.511018722233586e-18,
            8.40538619719506e-18,
            6.045764123698957e-18,
            -6.670840548212167e-18,
            5.245564371216482e-18,
            2.8859422977203755e-18,
            2.1062311372135663e-18
           ]
          }
         ],
         "hovertemplate": "color=NO<br>%{xaxis.title.text}=%{x}<br>%{yaxis.title.text}=%{y}<extra></extra>",
         "legendgroup": "NO",
         "marker": {
          "color": "#636efa",
          "symbol": "circle"
         },
         "name": "NO",
         "showlegend": true,
         "type": "splom"
        },
        {
         "diagonal": {
          "visible": true
         },
         "dimensions": [
          {
           "axis": {
            "matches": true
           },
           "label": "PC 1 (98.3%)",
           "values": [
            -0.41778717506636587,
            -0.37461481872108027,
            -0.28756397158871044,
            -0.24439161524342481,
            -0.37390868427928153,
            -0.28756397158871044,
            -0.24439161524342481,
            -0.11346227732397068,
            -0.2861517027051129,
            -0.24297934635982738,
            -0.1120500084403732,
            -0.02499916130800335,
            0.018526262258181575,
            -0.1120500084403732,
            -0.024293026866204614,
            0.019232396699980316,
            0.10663631105324954,
            -0.10781320178958077,
            -0.020762354657210918,
            0.02276306890897401,
            0.11087311770404198,
            -0.020056220215412177,
            0.023469203350772752,
            0.11087311770404198,
            0.24321472450709358,
            0.2870932152941779,
            0.11228538658763945,
            0.24462699339069108,
            0.2885054841777754,
            0.37661553297284334,
            0.24462699339069108,
            0.2885054841777754,
            0.3773216674146421,
            0.42155322542262574
           ]
          },
          {
           "axis": {
            "matches": true
           },
           "label": "PC 2 (1.7%)",
           "values": [
            0.04674383348856302,
            0.02848422580943466,
            0.0036624664016231706,
            -0.014597141277505169,
            0.040181681759879864,
            0.0036624664016231706,
            -0.014597141277505169,
            -0.045981052413999815,
            0.027057378302513552,
            0.00879777062338521,
            -0.022586140513109428,
            -0.04740789992092092,
            -0.05981877962482666,
            -0.022586140513109428,
            -0.03571044397047572,
            -0.048121323674381475,
            -0.06709435510697036,
            0.04759859518956171,
            0.022776835781750226,
            0.010365956077844482,
            0.0030903805957007754,
            0.03447429173219542,
            0.02206341202828967,
            0.0030903805957007754,
            -0.004898618639903482,
            -0.011460770368586632,
            0.026485292496591154,
            0.018496293260986896,
            0.011934141532303748,
            0.004658566050160044,
            0.018496293260986896,
            0.011934141532303748,
            0.016356022000605232,
            0.01564259824714468
           ]
          },
          {
           "axis": {
            "matches": true
           },
           "label": "PC 3 (0.0%)",
           "values": [
            -4.041131338248486e-17,
            -2.586172360807405e-17,
            7.763411476895948e-20,
            -1.2673727007326866e-18,
            -2.902154543405263e-17,
            7.763411476895948e-20,
            -1.2673727007326866e-18,
            4.272559790717666e-18,
            -6.2420095371882015e-18,
            -7.587016352689847e-18,
            -2.0470838612394968e-18,
            1.1971326419169183e-17,
            1.699370698563447e-17,
            -2.0470838612394968e-18,
            8.811504593190602e-18,
            1.383388515965589e-17,
            2.6272384527075282e-17,
            -2.100601481711098e-17,
            -6.987604536702299e-18,
            -1.9652239702370122e-18,
            7.313453571203799e-18,
            -1.014742636268088e-17,
            -5.125045796215593e-18,
            7.313453571203799e-18,
            6.5337424106969875e-18,
            2.0289137692167613e-18,
            9.938099192466372e-19,
            2.1409875873982747e-19,
            -4.2907298827404e-18,
            1.690889510113474e-17,
            2.1409875873982747e-19,
            -4.2907298827404e-18,
            1.3749073275156158e-17,
            2.3558930310599088e-17
           ]
          }
         ],
         "hovertemplate": "color=YES<br>%{xaxis.title.text}=%{x}<br>%{yaxis.title.text}=%{y}<extra></extra>",
         "legendgroup": "YES",
         "marker": {
          "color": "#EF553B",
          "symbol": "circle"
         },
         "name": "YES",
         "showlegend": true,
         "type": "splom"
        }
       ],
       "layout": {
        "dragmode": "select",
        "legend": {
         "title": {
          "text": "color"
         },
         "tracegroupgap": 0
        },
        "margin": {
         "t": 60
        },
        "template": {
         "data": {
          "bar": [
           {
            "error_x": {
             "color": "#2a3f5f"
            },
            "error_y": {
             "color": "#2a3f5f"
            },
            "marker": {
             "line": {
              "color": "#E5ECF6",
              "width": 0.5
             },
             "pattern": {
              "fillmode": "overlay",
              "size": 10,
              "solidity": 0.2
             }
            },
            "type": "bar"
           }
          ],
          "barpolar": [
           {
            "marker": {
             "line": {
              "color": "#E5ECF6",
              "width": 0.5
             },
             "pattern": {
              "fillmode": "overlay",
              "size": 10,
              "solidity": 0.2
             }
            },
            "type": "barpolar"
           }
          ],
          "carpet": [
           {
            "aaxis": {
             "endlinecolor": "#2a3f5f",
             "gridcolor": "white",
             "linecolor": "white",
             "minorgridcolor": "white",
             "startlinecolor": "#2a3f5f"
            },
            "baxis": {
             "endlinecolor": "#2a3f5f",
             "gridcolor": "white",
             "linecolor": "white",
             "minorgridcolor": "white",
             "startlinecolor": "#2a3f5f"
            },
            "type": "carpet"
           }
          ],
          "choropleth": [
           {
            "colorbar": {
             "outlinewidth": 0,
             "ticks": ""
            },
            "type": "choropleth"
           }
          ],
          "contour": [
           {
            "colorbar": {
             "outlinewidth": 0,
             "ticks": ""
            },
            "colorscale": [
             [
              0,
              "#0d0887"
             ],
             [
              0.1111111111111111,
              "#46039f"
             ],
             [
              0.2222222222222222,
              "#7201a8"
             ],
             [
              0.3333333333333333,
              "#9c179e"
             ],
             [
              0.4444444444444444,
              "#bd3786"
             ],
             [
              0.5555555555555556,
              "#d8576b"
             ],
             [
              0.6666666666666666,
              "#ed7953"
             ],
             [
              0.7777777777777778,
              "#fb9f3a"
             ],
             [
              0.8888888888888888,
              "#fdca26"
             ],
             [
              1,
              "#f0f921"
             ]
            ],
            "type": "contour"
           }
          ],
          "contourcarpet": [
           {
            "colorbar": {
             "outlinewidth": 0,
             "ticks": ""
            },
            "type": "contourcarpet"
           }
          ],
          "heatmap": [
           {
            "colorbar": {
             "outlinewidth": 0,
             "ticks": ""
            },
            "colorscale": [
             [
              0,
              "#0d0887"
             ],
             [
              0.1111111111111111,
              "#46039f"
             ],
             [
              0.2222222222222222,
              "#7201a8"
             ],
             [
              0.3333333333333333,
              "#9c179e"
             ],
             [
              0.4444444444444444,
              "#bd3786"
             ],
             [
              0.5555555555555556,
              "#d8576b"
             ],
             [
              0.6666666666666666,
              "#ed7953"
             ],
             [
              0.7777777777777778,
              "#fb9f3a"
             ],
             [
              0.8888888888888888,
              "#fdca26"
             ],
             [
              1,
              "#f0f921"
             ]
            ],
            "type": "heatmap"
           }
          ],
          "heatmapgl": [
           {
            "colorbar": {
             "outlinewidth": 0,
             "ticks": ""
            },
            "colorscale": [
             [
              0,
              "#0d0887"
             ],
             [
              0.1111111111111111,
              "#46039f"
             ],
             [
              0.2222222222222222,
              "#7201a8"
             ],
             [
              0.3333333333333333,
              "#9c179e"
             ],
             [
              0.4444444444444444,
              "#bd3786"
             ],
             [
              0.5555555555555556,
              "#d8576b"
             ],
             [
              0.6666666666666666,
              "#ed7953"
             ],
             [
              0.7777777777777778,
              "#fb9f3a"
             ],
             [
              0.8888888888888888,
              "#fdca26"
             ],
             [
              1,
              "#f0f921"
             ]
            ],
            "type": "heatmapgl"
           }
          ],
          "histogram": [
           {
            "marker": {
             "pattern": {
              "fillmode": "overlay",
              "size": 10,
              "solidity": 0.2
             }
            },
            "type": "histogram"
           }
          ],
          "histogram2d": [
           {
            "colorbar": {
             "outlinewidth": 0,
             "ticks": ""
            },
            "colorscale": [
             [
              0,
              "#0d0887"
             ],
             [
              0.1111111111111111,
              "#46039f"
             ],
             [
              0.2222222222222222,
              "#7201a8"
             ],
             [
              0.3333333333333333,
              "#9c179e"
             ],
             [
              0.4444444444444444,
              "#bd3786"
             ],
             [
              0.5555555555555556,
              "#d8576b"
             ],
             [
              0.6666666666666666,
              "#ed7953"
             ],
             [
              0.7777777777777778,
              "#fb9f3a"
             ],
             [
              0.8888888888888888,
              "#fdca26"
             ],
             [
              1,
              "#f0f921"
             ]
            ],
            "type": "histogram2d"
           }
          ],
          "histogram2dcontour": [
           {
            "colorbar": {
             "outlinewidth": 0,
             "ticks": ""
            },
            "colorscale": [
             [
              0,
              "#0d0887"
             ],
             [
              0.1111111111111111,
              "#46039f"
             ],
             [
              0.2222222222222222,
              "#7201a8"
             ],
             [
              0.3333333333333333,
              "#9c179e"
             ],
             [
              0.4444444444444444,
              "#bd3786"
             ],
             [
              0.5555555555555556,
              "#d8576b"
             ],
             [
              0.6666666666666666,
              "#ed7953"
             ],
             [
              0.7777777777777778,
              "#fb9f3a"
             ],
             [
              0.8888888888888888,
              "#fdca26"
             ],
             [
              1,
              "#f0f921"
             ]
            ],
            "type": "histogram2dcontour"
           }
          ],
          "mesh3d": [
           {
            "colorbar": {
             "outlinewidth": 0,
             "ticks": ""
            },
            "type": "mesh3d"
           }
          ],
          "parcoords": [
           {
            "line": {
             "colorbar": {
              "outlinewidth": 0,
              "ticks": ""
             }
            },
            "type": "parcoords"
           }
          ],
          "pie": [
           {
            "automargin": true,
            "type": "pie"
           }
          ],
          "scatter": [
           {
            "fillpattern": {
             "fillmode": "overlay",
             "size": 10,
             "solidity": 0.2
            },
            "type": "scatter"
           }
          ],
          "scatter3d": [
           {
            "line": {
             "colorbar": {
              "outlinewidth": 0,
              "ticks": ""
             }
            },
            "marker": {
             "colorbar": {
              "outlinewidth": 0,
              "ticks": ""
             }
            },
            "type": "scatter3d"
           }
          ],
          "scattercarpet": [
           {
            "marker": {
             "colorbar": {
              "outlinewidth": 0,
              "ticks": ""
             }
            },
            "type": "scattercarpet"
           }
          ],
          "scattergeo": [
           {
            "marker": {
             "colorbar": {
              "outlinewidth": 0,
              "ticks": ""
             }
            },
            "type": "scattergeo"
           }
          ],
          "scattergl": [
           {
            "marker": {
             "colorbar": {
              "outlinewidth": 0,
              "ticks": ""
             }
            },
            "type": "scattergl"
           }
          ],
          "scattermapbox": [
           {
            "marker": {
             "colorbar": {
              "outlinewidth": 0,
              "ticks": ""
             }
            },
            "type": "scattermapbox"
           }
          ],
          "scatterpolar": [
           {
            "marker": {
             "colorbar": {
              "outlinewidth": 0,
              "ticks": ""
             }
            },
            "type": "scatterpolar"
           }
          ],
          "scatterpolargl": [
           {
            "marker": {
             "colorbar": {
              "outlinewidth": 0,
              "ticks": ""
             }
            },
            "type": "scatterpolargl"
           }
          ],
          "scatterternary": [
           {
            "marker": {
             "colorbar": {
              "outlinewidth": 0,
              "ticks": ""
             }
            },
            "type": "scatterternary"
           }
          ],
          "surface": [
           {
            "colorbar": {
             "outlinewidth": 0,
             "ticks": ""
            },
            "colorscale": [
             [
              0,
              "#0d0887"
             ],
             [
              0.1111111111111111,
              "#46039f"
             ],
             [
              0.2222222222222222,
              "#7201a8"
             ],
             [
              0.3333333333333333,
              "#9c179e"
             ],
             [
              0.4444444444444444,
              "#bd3786"
             ],
             [
              0.5555555555555556,
              "#d8576b"
             ],
             [
              0.6666666666666666,
              "#ed7953"
             ],
             [
              0.7777777777777778,
              "#fb9f3a"
             ],
             [
              0.8888888888888888,
              "#fdca26"
             ],
             [
              1,
              "#f0f921"
             ]
            ],
            "type": "surface"
           }
          ],
          "table": [
           {
            "cells": {
             "fill": {
              "color": "#EBF0F8"
             },
             "line": {
              "color": "white"
             }
            },
            "header": {
             "fill": {
              "color": "#C8D4E3"
             },
             "line": {
              "color": "white"
             }
            },
            "type": "table"
           }
          ]
         },
         "layout": {
          "annotationdefaults": {
           "arrowcolor": "#2a3f5f",
           "arrowhead": 0,
           "arrowwidth": 1
          },
          "autotypenumbers": "strict",
          "coloraxis": {
           "colorbar": {
            "outlinewidth": 0,
            "ticks": ""
           }
          },
          "colorscale": {
           "diverging": [
            [
             0,
             "#8e0152"
            ],
            [
             0.1,
             "#c51b7d"
            ],
            [
             0.2,
             "#de77ae"
            ],
            [
             0.3,
             "#f1b6da"
            ],
            [
             0.4,
             "#fde0ef"
            ],
            [
             0.5,
             "#f7f7f7"
            ],
            [
             0.6,
             "#e6f5d0"
            ],
            [
             0.7,
             "#b8e186"
            ],
            [
             0.8,
             "#7fbc41"
            ],
            [
             0.9,
             "#4d9221"
            ],
            [
             1,
             "#276419"
            ]
           ],
           "sequential": [
            [
             0,
             "#0d0887"
            ],
            [
             0.1111111111111111,
             "#46039f"
            ],
            [
             0.2222222222222222,
             "#7201a8"
            ],
            [
             0.3333333333333333,
             "#9c179e"
            ],
            [
             0.4444444444444444,
             "#bd3786"
            ],
            [
             0.5555555555555556,
             "#d8576b"
            ],
            [
             0.6666666666666666,
             "#ed7953"
            ],
            [
             0.7777777777777778,
             "#fb9f3a"
            ],
            [
             0.8888888888888888,
             "#fdca26"
            ],
            [
             1,
             "#f0f921"
            ]
           ],
           "sequentialminus": [
            [
             0,
             "#0d0887"
            ],
            [
             0.1111111111111111,
             "#46039f"
            ],
            [
             0.2222222222222222,
             "#7201a8"
            ],
            [
             0.3333333333333333,
             "#9c179e"
            ],
            [
             0.4444444444444444,
             "#bd3786"
            ],
            [
             0.5555555555555556,
             "#d8576b"
            ],
            [
             0.6666666666666666,
             "#ed7953"
            ],
            [
             0.7777777777777778,
             "#fb9f3a"
            ],
            [
             0.8888888888888888,
             "#fdca26"
            ],
            [
             1,
             "#f0f921"
            ]
           ]
          },
          "colorway": [
           "#636efa",
           "#EF553B",
           "#00cc96",
           "#ab63fa",
           "#FFA15A",
           "#19d3f3",
           "#FF6692",
           "#B6E880",
           "#FF97FF",
           "#FECB52"
          ],
          "font": {
           "color": "#2a3f5f"
          },
          "geo": {
           "bgcolor": "white",
           "lakecolor": "white",
           "landcolor": "#E5ECF6",
           "showlakes": true,
           "showland": true,
           "subunitcolor": "white"
          },
          "hoverlabel": {
           "align": "left"
          },
          "hovermode": "closest",
          "mapbox": {
           "style": "light"
          },
          "paper_bgcolor": "white",
          "plot_bgcolor": "#E5ECF6",
          "polar": {
           "angularaxis": {
            "gridcolor": "white",
            "linecolor": "white",
            "ticks": ""
           },
           "bgcolor": "#E5ECF6",
           "radialaxis": {
            "gridcolor": "white",
            "linecolor": "white",
            "ticks": ""
           }
          },
          "scene": {
           "xaxis": {
            "backgroundcolor": "#E5ECF6",
            "gridcolor": "white",
            "gridwidth": 2,
            "linecolor": "white",
            "showbackground": true,
            "ticks": "",
            "zerolinecolor": "white"
           },
           "yaxis": {
            "backgroundcolor": "#E5ECF6",
            "gridcolor": "white",
            "gridwidth": 2,
            "linecolor": "white",
            "showbackground": true,
            "ticks": "",
            "zerolinecolor": "white"
           },
           "zaxis": {
            "backgroundcolor": "#E5ECF6",
            "gridcolor": "white",
            "gridwidth": 2,
            "linecolor": "white",
            "showbackground": true,
            "ticks": "",
            "zerolinecolor": "white"
           }
          },
          "shapedefaults": {
           "line": {
            "color": "#2a3f5f"
           }
          },
          "ternary": {
           "aaxis": {
            "gridcolor": "white",
            "linecolor": "white",
            "ticks": ""
           },
           "baxis": {
            "gridcolor": "white",
            "linecolor": "white",
            "ticks": ""
           },
           "bgcolor": "#E5ECF6",
           "caxis": {
            "gridcolor": "white",
            "linecolor": "white",
            "ticks": ""
           }
          },
          "title": {
           "x": 0.05
          },
          "xaxis": {
           "automargin": true,
           "gridcolor": "white",
           "linecolor": "white",
           "ticks": "",
           "title": {
            "standoff": 15
           },
           "zerolinecolor": "white",
           "zerolinewidth": 2
          },
          "yaxis": {
           "automargin": true,
           "gridcolor": "white",
           "linecolor": "white",
           "ticks": "",
           "title": {
            "standoff": 15
           },
           "zerolinecolor": "white",
           "zerolinewidth": 2
          }
         }
        }
       }
      },
      "text/html": [
       "<div>                            <div id=\"db30412e-42a9-4b69-9f8d-1791b3226b0a\" class=\"plotly-graph-div\" style=\"height:525px; width:100%;\"></div>            <script type=\"text/javascript\">                require([\"plotly\"], function(Plotly) {                    window.PLOTLYENV=window.PLOTLYENV || {};                                    if (document.getElementById(\"db30412e-42a9-4b69-9f8d-1791b3226b0a\")) {                    Plotly.newPlot(                        \"db30412e-42a9-4b69-9f8d-1791b3226b0a\",                        [{\"dimensions\":[{\"axis\":{\"matches\":true},\"label\":\"PC 1 (98.3%)\",\"values\":[-0.4607241532643854,-0.3315601514494278,-0.20098388075087306,-0.15769383533195436,-0.33085401700762906,-0.20027774630907433,-0.15698770089015562,-0.07005454283141889,-0.19957161186727557,-0.1562815664483569,-0.06864227394782141,-0.19886547742547683,-0.15557543200655816,-0.06864227394782141,0.0629931984134315,-0.06440546729702898,0.06723000506422393,0.1547516084911263,0.19851241020457747,0.06723000506422393,0.15545774293292502,0.19921854464637623,0.06864227394782141,0.1561638773747238,0.19992467908817496,0.3326193531121259,0.1568700118165225,0.2006308135299737,0.33332548755392466,0.46566709435697634]},{\"axis\":{\"matches\":true},\"label\":\"PC 2 (1.7%)\",\"values\":[0.06890259315117307,0.008275042138565454,-0.02895759697315178,-0.04526762866053926,0.019972498089010644,-0.01726014102270659,-0.03357017271009406,-0.06034150810964641,-0.005562685072261397,-0.021872716759648872,-0.03694659620875603,0.0061347708781837925,-0.010175260809203682,-0.03694659620875603,-0.0566330513948055,0.03323813949391511,0.013551684307865656,-0.0034717711329823723,-0.01198349885340639,0.013551684307865656,0.008225684817462817,-0.00028604290296119743,0.03694659620875603,0.019923140767908003,0.011411413047483993,0.009271141787102331,0.031620596718353204,0.02310886899792918,0.020968597737547525,0.012979598501943265]},{\"axis\":{\"matches\":true},\"label\":\"PC 3 (0.0%)\",\"values\":[1.9796771078916817e-16,-1.0785496862666826e-17,-3.6656534582271905e-18,1.0357299345187176e-17,-1.3945318688645408e-17,-6.8254752842057705e-18,7.197477519208596e-18,1.3795226475657488e-17,-9.98529711018435e-18,4.037655693230016e-18,7.475582823700325e-18,-1.3145118936162931e-17,8.778338672514352e-19,7.475582823700325e-18,1.780299178412832e-17,-1.1483348132171156e-17,-1.1559391717431665e-18,2.8086249297235747e-18,1.4725029849152223e-17,-1.1559391717431665e-18,-3.5119689625500524e-19,1.1565208023173641e-17,-7.475582823700325e-18,-3.511018722233586e-18,8.40538619719506e-18,6.045764123698957e-18,-6.670840548212167e-18,5.245564371216482e-18,2.8859422977203755e-18,2.1062311372135663e-18]}],\"hovertemplate\":\"color=NO<br>%{xaxis.title.text}=%{x}<br>%{yaxis.title.text}=%{y}<extra></extra>\",\"legendgroup\":\"NO\",\"marker\":{\"color\":\"#636efa\",\"symbol\":\"circle\"},\"name\":\"NO\",\"showlegend\":true,\"type\":\"splom\",\"diagonal\":{\"visible\":true}},{\"dimensions\":[{\"axis\":{\"matches\":true},\"label\":\"PC 1 (98.3%)\",\"values\":[-0.41778717506636587,-0.37461481872108027,-0.28756397158871044,-0.24439161524342481,-0.37390868427928153,-0.28756397158871044,-0.24439161524342481,-0.11346227732397068,-0.2861517027051129,-0.24297934635982738,-0.1120500084403732,-0.02499916130800335,0.018526262258181575,-0.1120500084403732,-0.024293026866204614,0.019232396699980316,0.10663631105324954,-0.10781320178958077,-0.020762354657210918,0.02276306890897401,0.11087311770404198,-0.020056220215412177,0.023469203350772752,0.11087311770404198,0.24321472450709358,0.2870932152941779,0.11228538658763945,0.24462699339069108,0.2885054841777754,0.37661553297284334,0.24462699339069108,0.2885054841777754,0.3773216674146421,0.42155322542262574]},{\"axis\":{\"matches\":true},\"label\":\"PC 2 (1.7%)\",\"values\":[0.04674383348856302,0.02848422580943466,0.0036624664016231706,-0.014597141277505169,0.040181681759879864,0.0036624664016231706,-0.014597141277505169,-0.045981052413999815,0.027057378302513552,0.00879777062338521,-0.022586140513109428,-0.04740789992092092,-0.05981877962482666,-0.022586140513109428,-0.03571044397047572,-0.048121323674381475,-0.06709435510697036,0.04759859518956171,0.022776835781750226,0.010365956077844482,0.0030903805957007754,0.03447429173219542,0.02206341202828967,0.0030903805957007754,-0.004898618639903482,-0.011460770368586632,0.026485292496591154,0.018496293260986896,0.011934141532303748,0.004658566050160044,0.018496293260986896,0.011934141532303748,0.016356022000605232,0.01564259824714468]},{\"axis\":{\"matches\":true},\"label\":\"PC 3 (0.0%)\",\"values\":[-4.041131338248486e-17,-2.586172360807405e-17,7.763411476895948e-20,-1.2673727007326866e-18,-2.902154543405263e-17,7.763411476895948e-20,-1.2673727007326866e-18,4.272559790717666e-18,-6.2420095371882015e-18,-7.587016352689847e-18,-2.0470838612394968e-18,1.1971326419169183e-17,1.699370698563447e-17,-2.0470838612394968e-18,8.811504593190602e-18,1.383388515965589e-17,2.6272384527075282e-17,-2.100601481711098e-17,-6.987604536702299e-18,-1.9652239702370122e-18,7.313453571203799e-18,-1.014742636268088e-17,-5.125045796215593e-18,7.313453571203799e-18,6.5337424106969875e-18,2.0289137692167613e-18,9.938099192466372e-19,2.1409875873982747e-19,-4.2907298827404e-18,1.690889510113474e-17,2.1409875873982747e-19,-4.2907298827404e-18,1.3749073275156158e-17,2.3558930310599088e-17]}],\"hovertemplate\":\"color=YES<br>%{xaxis.title.text}=%{x}<br>%{yaxis.title.text}=%{y}<extra></extra>\",\"legendgroup\":\"YES\",\"marker\":{\"color\":\"#EF553B\",\"symbol\":\"circle\"},\"name\":\"YES\",\"showlegend\":true,\"type\":\"splom\",\"diagonal\":{\"visible\":true}}],                        {\"template\":{\"data\":{\"histogram2dcontour\":[{\"type\":\"histogram2dcontour\",\"colorbar\":{\"outlinewidth\":0,\"ticks\":\"\"},\"colorscale\":[[0.0,\"#0d0887\"],[0.1111111111111111,\"#46039f\"],[0.2222222222222222,\"#7201a8\"],[0.3333333333333333,\"#9c179e\"],[0.4444444444444444,\"#bd3786\"],[0.5555555555555556,\"#d8576b\"],[0.6666666666666666,\"#ed7953\"],[0.7777777777777778,\"#fb9f3a\"],[0.8888888888888888,\"#fdca26\"],[1.0,\"#f0f921\"]]}],\"choropleth\":[{\"type\":\"choropleth\",\"colorbar\":{\"outlinewidth\":0,\"ticks\":\"\"}}],\"histogram2d\":[{\"type\":\"histogram2d\",\"colorbar\":{\"outlinewidth\":0,\"ticks\":\"\"},\"colorscale\":[[0.0,\"#0d0887\"],[0.1111111111111111,\"#46039f\"],[0.2222222222222222,\"#7201a8\"],[0.3333333333333333,\"#9c179e\"],[0.4444444444444444,\"#bd3786\"],[0.5555555555555556,\"#d8576b\"],[0.6666666666666666,\"#ed7953\"],[0.7777777777777778,\"#fb9f3a\"],[0.8888888888888888,\"#fdca26\"],[1.0,\"#f0f921\"]]}],\"heatmap\":[{\"type\":\"heatmap\",\"colorbar\":{\"outlinewidth\":0,\"ticks\":\"\"},\"colorscale\":[[0.0,\"#0d0887\"],[0.1111111111111111,\"#46039f\"],[0.2222222222222222,\"#7201a8\"],[0.3333333333333333,\"#9c179e\"],[0.4444444444444444,\"#bd3786\"],[0.5555555555555556,\"#d8576b\"],[0.6666666666666666,\"#ed7953\"],[0.7777777777777778,\"#fb9f3a\"],[0.8888888888888888,\"#fdca26\"],[1.0,\"#f0f921\"]]}],\"heatmapgl\":[{\"type\":\"heatmapgl\",\"colorbar\":{\"outlinewidth\":0,\"ticks\":\"\"},\"colorscale\":[[0.0,\"#0d0887\"],[0.1111111111111111,\"#46039f\"],[0.2222222222222222,\"#7201a8\"],[0.3333333333333333,\"#9c179e\"],[0.4444444444444444,\"#bd3786\"],[0.5555555555555556,\"#d8576b\"],[0.6666666666666666,\"#ed7953\"],[0.7777777777777778,\"#fb9f3a\"],[0.8888888888888888,\"#fdca26\"],[1.0,\"#f0f921\"]]}],\"contourcarpet\":[{\"type\":\"contourcarpet\",\"colorbar\":{\"outlinewidth\":0,\"ticks\":\"\"}}],\"contour\":[{\"type\":\"contour\",\"colorbar\":{\"outlinewidth\":0,\"ticks\":\"\"},\"colorscale\":[[0.0,\"#0d0887\"],[0.1111111111111111,\"#46039f\"],[0.2222222222222222,\"#7201a8\"],[0.3333333333333333,\"#9c179e\"],[0.4444444444444444,\"#bd3786\"],[0.5555555555555556,\"#d8576b\"],[0.6666666666666666,\"#ed7953\"],[0.7777777777777778,\"#fb9f3a\"],[0.8888888888888888,\"#fdca26\"],[1.0,\"#f0f921\"]]}],\"surface\":[{\"type\":\"surface\",\"colorbar\":{\"outlinewidth\":0,\"ticks\":\"\"},\"colorscale\":[[0.0,\"#0d0887\"],[0.1111111111111111,\"#46039f\"],[0.2222222222222222,\"#7201a8\"],[0.3333333333333333,\"#9c179e\"],[0.4444444444444444,\"#bd3786\"],[0.5555555555555556,\"#d8576b\"],[0.6666666666666666,\"#ed7953\"],[0.7777777777777778,\"#fb9f3a\"],[0.8888888888888888,\"#fdca26\"],[1.0,\"#f0f921\"]]}],\"mesh3d\":[{\"type\":\"mesh3d\",\"colorbar\":{\"outlinewidth\":0,\"ticks\":\"\"}}],\"scatter\":[{\"fillpattern\":{\"fillmode\":\"overlay\",\"size\":10,\"solidity\":0.2},\"type\":\"scatter\"}],\"parcoords\":[{\"type\":\"parcoords\",\"line\":{\"colorbar\":{\"outlinewidth\":0,\"ticks\":\"\"}}}],\"scatterpolargl\":[{\"type\":\"scatterpolargl\",\"marker\":{\"colorbar\":{\"outlinewidth\":0,\"ticks\":\"\"}}}],\"bar\":[{\"error_x\":{\"color\":\"#2a3f5f\"},\"error_y\":{\"color\":\"#2a3f5f\"},\"marker\":{\"line\":{\"color\":\"#E5ECF6\",\"width\":0.5},\"pattern\":{\"fillmode\":\"overlay\",\"size\":10,\"solidity\":0.2}},\"type\":\"bar\"}],\"scattergeo\":[{\"type\":\"scattergeo\",\"marker\":{\"colorbar\":{\"outlinewidth\":0,\"ticks\":\"\"}}}],\"scatterpolar\":[{\"type\":\"scatterpolar\",\"marker\":{\"colorbar\":{\"outlinewidth\":0,\"ticks\":\"\"}}}],\"histogram\":[{\"marker\":{\"pattern\":{\"fillmode\":\"overlay\",\"size\":10,\"solidity\":0.2}},\"type\":\"histogram\"}],\"scattergl\":[{\"type\":\"scattergl\",\"marker\":{\"colorbar\":{\"outlinewidth\":0,\"ticks\":\"\"}}}],\"scatter3d\":[{\"type\":\"scatter3d\",\"line\":{\"colorbar\":{\"outlinewidth\":0,\"ticks\":\"\"}},\"marker\":{\"colorbar\":{\"outlinewidth\":0,\"ticks\":\"\"}}}],\"scattermapbox\":[{\"type\":\"scattermapbox\",\"marker\":{\"colorbar\":{\"outlinewidth\":0,\"ticks\":\"\"}}}],\"scatterternary\":[{\"type\":\"scatterternary\",\"marker\":{\"colorbar\":{\"outlinewidth\":0,\"ticks\":\"\"}}}],\"scattercarpet\":[{\"type\":\"scattercarpet\",\"marker\":{\"colorbar\":{\"outlinewidth\":0,\"ticks\":\"\"}}}],\"carpet\":[{\"aaxis\":{\"endlinecolor\":\"#2a3f5f\",\"gridcolor\":\"white\",\"linecolor\":\"white\",\"minorgridcolor\":\"white\",\"startlinecolor\":\"#2a3f5f\"},\"baxis\":{\"endlinecolor\":\"#2a3f5f\",\"gridcolor\":\"white\",\"linecolor\":\"white\",\"minorgridcolor\":\"white\",\"startlinecolor\":\"#2a3f5f\"},\"type\":\"carpet\"}],\"table\":[{\"cells\":{\"fill\":{\"color\":\"#EBF0F8\"},\"line\":{\"color\":\"white\"}},\"header\":{\"fill\":{\"color\":\"#C8D4E3\"},\"line\":{\"color\":\"white\"}},\"type\":\"table\"}],\"barpolar\":[{\"marker\":{\"line\":{\"color\":\"#E5ECF6\",\"width\":0.5},\"pattern\":{\"fillmode\":\"overlay\",\"size\":10,\"solidity\":0.2}},\"type\":\"barpolar\"}],\"pie\":[{\"automargin\":true,\"type\":\"pie\"}]},\"layout\":{\"autotypenumbers\":\"strict\",\"colorway\":[\"#636efa\",\"#EF553B\",\"#00cc96\",\"#ab63fa\",\"#FFA15A\",\"#19d3f3\",\"#FF6692\",\"#B6E880\",\"#FF97FF\",\"#FECB52\"],\"font\":{\"color\":\"#2a3f5f\"},\"hovermode\":\"closest\",\"hoverlabel\":{\"align\":\"left\"},\"paper_bgcolor\":\"white\",\"plot_bgcolor\":\"#E5ECF6\",\"polar\":{\"bgcolor\":\"#E5ECF6\",\"angularaxis\":{\"gridcolor\":\"white\",\"linecolor\":\"white\",\"ticks\":\"\"},\"radialaxis\":{\"gridcolor\":\"white\",\"linecolor\":\"white\",\"ticks\":\"\"}},\"ternary\":{\"bgcolor\":\"#E5ECF6\",\"aaxis\":{\"gridcolor\":\"white\",\"linecolor\":\"white\",\"ticks\":\"\"},\"baxis\":{\"gridcolor\":\"white\",\"linecolor\":\"white\",\"ticks\":\"\"},\"caxis\":{\"gridcolor\":\"white\",\"linecolor\":\"white\",\"ticks\":\"\"}},\"coloraxis\":{\"colorbar\":{\"outlinewidth\":0,\"ticks\":\"\"}},\"colorscale\":{\"sequential\":[[0.0,\"#0d0887\"],[0.1111111111111111,\"#46039f\"],[0.2222222222222222,\"#7201a8\"],[0.3333333333333333,\"#9c179e\"],[0.4444444444444444,\"#bd3786\"],[0.5555555555555556,\"#d8576b\"],[0.6666666666666666,\"#ed7953\"],[0.7777777777777778,\"#fb9f3a\"],[0.8888888888888888,\"#fdca26\"],[1.0,\"#f0f921\"]],\"sequentialminus\":[[0.0,\"#0d0887\"],[0.1111111111111111,\"#46039f\"],[0.2222222222222222,\"#7201a8\"],[0.3333333333333333,\"#9c179e\"],[0.4444444444444444,\"#bd3786\"],[0.5555555555555556,\"#d8576b\"],[0.6666666666666666,\"#ed7953\"],[0.7777777777777778,\"#fb9f3a\"],[0.8888888888888888,\"#fdca26\"],[1.0,\"#f0f921\"]],\"diverging\":[[0,\"#8e0152\"],[0.1,\"#c51b7d\"],[0.2,\"#de77ae\"],[0.3,\"#f1b6da\"],[0.4,\"#fde0ef\"],[0.5,\"#f7f7f7\"],[0.6,\"#e6f5d0\"],[0.7,\"#b8e186\"],[0.8,\"#7fbc41\"],[0.9,\"#4d9221\"],[1,\"#276419\"]]},\"xaxis\":{\"gridcolor\":\"white\",\"linecolor\":\"white\",\"ticks\":\"\",\"title\":{\"standoff\":15},\"zerolinecolor\":\"white\",\"automargin\":true,\"zerolinewidth\":2},\"yaxis\":{\"gridcolor\":\"white\",\"linecolor\":\"white\",\"ticks\":\"\",\"title\":{\"standoff\":15},\"zerolinecolor\":\"white\",\"automargin\":true,\"zerolinewidth\":2},\"scene\":{\"xaxis\":{\"backgroundcolor\":\"#E5ECF6\",\"gridcolor\":\"white\",\"linecolor\":\"white\",\"showbackground\":true,\"ticks\":\"\",\"zerolinecolor\":\"white\",\"gridwidth\":2},\"yaxis\":{\"backgroundcolor\":\"#E5ECF6\",\"gridcolor\":\"white\",\"linecolor\":\"white\",\"showbackground\":true,\"ticks\":\"\",\"zerolinecolor\":\"white\",\"gridwidth\":2},\"zaxis\":{\"backgroundcolor\":\"#E5ECF6\",\"gridcolor\":\"white\",\"linecolor\":\"white\",\"showbackground\":true,\"ticks\":\"\",\"zerolinecolor\":\"white\",\"gridwidth\":2}},\"shapedefaults\":{\"line\":{\"color\":\"#2a3f5f\"}},\"annotationdefaults\":{\"arrowcolor\":\"#2a3f5f\",\"arrowhead\":0,\"arrowwidth\":1},\"geo\":{\"bgcolor\":\"white\",\"landcolor\":\"#E5ECF6\",\"subunitcolor\":\"white\",\"showland\":true,\"showlakes\":true,\"lakecolor\":\"white\"},\"title\":{\"x\":0.05},\"mapbox\":{\"style\":\"light\"}}},\"legend\":{\"title\":{\"text\":\"color\"},\"tracegroupgap\":0},\"margin\":{\"t\":60},\"dragmode\":\"select\"},                        {\"responsive\": true}                    ).then(function(){\n",
       "                            \n",
       "var gd = document.getElementById('db30412e-42a9-4b69-9f8d-1791b3226b0a');\n",
       "var x = new MutationObserver(function (mutations, observer) {{\n",
       "        var display = window.getComputedStyle(gd).display;\n",
       "        if (!display || display === 'none') {{\n",
       "            console.log([gd, 'removed!']);\n",
       "            Plotly.purge(gd);\n",
       "            observer.disconnect();\n",
       "        }}\n",
       "}});\n",
       "\n",
       "// Listen for the removal of the full notebook cells\n",
       "var notebookContainer = gd.closest('#notebook-container');\n",
       "if (notebookContainer) {{\n",
       "    x.observe(notebookContainer, {childList: true});\n",
       "}}\n",
       "\n",
       "// Listen for the clearing of the current output cell\n",
       "var outputEl = gd.closest('.output');\n",
       "if (outputEl) {{\n",
       "    x.observe(outputEl, {childList: true});\n",
       "}}\n",
       "\n",
       "                        })                };                });            </script>        </div>"
      ]
     },
     "metadata": {},
     "output_type": "display_data"
    }
   ],
   "source": [
    "if label==1 and visualization==1 and len(feats)>components:\n",
    "\n",
    "    pca = PCA()\n",
    "    components = pca.fit_transform(df[features])\n",
    "    labels = {\n",
    "        str(i): f\"PC {i+1} ({var:.1f}%)\"\n",
    "        for i, var in enumerate(pca.explained_variance_ratio_ * 100)\n",
    "    }\n",
    "    fig = px.scatter_matrix(\n",
    "    components,\n",
    "    labels=labels,\n",
    "    dimensions=range(len(features)),\n",
    "    color=scaled[\"Label\"]\n",
    "    )\n",
    "    fig.update_traces(diagonal_visible=True)\n",
    "    fig.show()"
   ]
  }
 ],
 "metadata": {
  "kernelspec": {
   "display_name": "Python 3.10.4 64-bit",
   "language": "python",
   "name": "python3"
  },
  "language_info": {
   "codemirror_mode": {
    "name": "ipython",
    "version": 3
   },
   "file_extension": ".py",
   "mimetype": "text/x-python",
   "name": "python",
   "nbconvert_exporter": "python",
   "pygments_lexer": "ipython3",
   "version": "3.10.4"
  },
  "orig_nbformat": 4,
  "vscode": {
   "interpreter": {
    "hash": "a42ccb73e7d9bfdf27e036f1d2b8b681e55fc0743cc5586bc2474d4a60f4b886"
   }
  }
 },
 "nbformat": 4,
 "nbformat_minor": 2
}
