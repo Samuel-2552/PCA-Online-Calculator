{
 "cells": [
  {
   "cell_type": "code",
   "execution_count": 172,
   "metadata": {},
   "outputs": [
    {
     "data": {
      "text/html": [
       "        <script type=\"text/javascript\">\n",
       "        window.PlotlyConfig = {MathJaxConfig: 'local'};\n",
       "        if (window.MathJax && window.MathJax.Hub && window.MathJax.Hub.Config) {window.MathJax.Hub.Config({SVG: {font: \"STIX-Web\"}});}\n",
       "        if (typeof require !== 'undefined') {\n",
       "        require.undef(\"plotly\");\n",
       "        requirejs.config({\n",
       "            paths: {\n",
       "                'plotly': ['https://cdn.plot.ly/plotly-2.16.1.min']\n",
       "            }\n",
       "        });\n",
       "        require(['plotly'], function(Plotly) {\n",
       "            window._Plotly = Plotly;\n",
       "        });\n",
       "        }\n",
       "        </script>\n",
       "        "
      ]
     },
     "metadata": {},
     "output_type": "display_data"
    }
   ],
   "source": [
    "import numpy as np\n",
    "import pandas as pd\n",
    "import plotly\n",
    "import plotly.express as px\n",
    "plotly.offline.init_notebook_mode (connected = True)\n",
    "import matplotlib.pyplot as plt\n",
    "import warnings"
   ]
  },
  {
   "cell_type": "code",
   "execution_count": 173,
   "metadata": {},
   "outputs": [],
   "source": [
    "header = 1 # 0 for No, 1 for Yes\n",
    "label = 1 # 0 for No, 1 for Yes\n",
    "path=\"test-data-revised.csv\" #path to the datset\n",
    "visualization=0 # 0 for No, 1 for Yes\n",
    "apply = 1 # 0 for none, 1 for standardization, 2 for normalization\n",
    "heatmap=1 # 0 for No, 1 for Yes\n",
    "components = 0 # get number input from user"
   ]
  },
  {
   "cell_type": "code",
   "execution_count": 174,
   "metadata": {},
   "outputs": [],
   "source": [
    "if header==1:\n",
    "    df = pd.read_csv(path)\n",
    "else:\n",
    "    df = pd.read_csv(path,header=None)\n",
    "\n",
    "if label==1:\n",
    "    labeled=df[df.columns[-1]]\n",
    "    df=df.drop([df.columns[-1]],axis=1)"
   ]
  },
  {
   "cell_type": "code",
   "execution_count": 176,
   "metadata": {},
   "outputs": [],
   "source": [
    "warnings.filterwarnings(\"ignore\")"
   ]
  },
  {
   "cell_type": "code",
   "execution_count": 177,
   "metadata": {},
   "outputs": [],
   "source": [
    "if heatmap==1:\n",
    "    df.corr().style.background_gradient(cmap='coolwarm') #to be worked upon for plotting by Shivesh"
   ]
  },
  {
   "cell_type": "code",
   "execution_count": 178,
   "metadata": {},
   "outputs": [
    {
     "data": {
      "text/plain": [
       "Index(['A', 'B', 'C'], dtype='object')"
      ]
     },
     "execution_count": 178,
     "metadata": {},
     "output_type": "execute_result"
    }
   ],
   "source": [
    "feats = df.columns[:]\n",
    "feats # getting the header names"
   ]
  },
  {
   "cell_type": "code",
   "execution_count": 179,
   "metadata": {},
   "outputs": [],
   "source": [
    "from sklearn.preprocessing import StandardScaler\n",
    "from sklearn import preprocessing\n",
    "\n",
    "if apply==1:\n",
    "    scaler = StandardScaler().fit_transform(df[feats])\n",
    "elif apply==2:\n",
    "    scaler = preprocessing.normalize(df[feats])\n",
    "else:\n",
    "    scaler = df[feats]"
   ]
  },
  {
   "cell_type": "code",
   "execution_count": 185,
   "metadata": {},
   "outputs": [],
   "source": [
    "scaled = pd.DataFrame(scaler, columns=feats)\n",
    "if label==1:\n",
    "    scaled['Label'] = labeled"
   ]
  },
  {
   "cell_type": "code",
   "execution_count": 181,
   "metadata": {},
   "outputs": [],
   "source": [
    "#before applying PCA Visualization #Shivesh add this as title\n",
    "if label==1 and visualization==1:\n",
    "    features = feats\n",
    "    fig = px.scatter_matrix(\n",
    "        scaled,\n",
    "        dimensions=features,\n",
    "        color=\"Label\"\n",
    "    )\n",
    "    fig.update_traces(diagonal_visible=True)\n",
    "    fig.show()"
   ]
  },
  {
   "cell_type": "code",
   "execution_count": 182,
   "metadata": {},
   "outputs": [],
   "source": [
    "from sklearn.decomposition import PCA\n",
    "def create_pca_label(X, y, n_components=None):\n",
    "    if (n_components != None):\n",
    "        pca = PCA(n_components)\n",
    "    else:\n",
    "        pca = PCA()\n",
    "    trans = pca.fit_transform(X)\n",
    "    trans = pd.DataFrame(trans)\n",
    "    trans['species'] = y\n",
    "    return pca, trans\n",
    "\n",
    "def create_pca(X, n_components=None):\n",
    "    if (n_components != None):\n",
    "        pca = PCA(n_components)\n",
    "    else:\n",
    "        pca = PCA()\n",
    "    trans = pca.fit_transform(X)\n",
    "    trans = pd.DataFrame(trans)\n",
    "    return pca, trans"
   ]
  },
  {
   "cell_type": "code",
   "execution_count": 183,
   "metadata": {},
   "outputs": [
    {
     "name": "stdout",
     "output_type": "stream",
     "text": [
      "[7.56893203e-01 2.43106797e-01 3.94207653e-33]\n",
      "[[-6.42023760e-01  6.42023760e-01 -4.19059643e-01]\n",
      " [ 2.96319915e-01 -2.96319915e-01 -9.07958708e-01]\n",
      " [ 7.07106781e-01  7.07106781e-01 -4.29074351e-17]]\n"
     ]
    }
   ],
   "source": [
    "if label==1:\n",
    "    X, y = scaled.drop(['Label'], axis=1), scaled['Label']\n",
    "\n",
    "    if len(feats)>components:\n",
    "        if components == 0:\n",
    "            components=None\n",
    "        pca1, trans1 = create_pca_label(X=X, y=y, n_components=components)\n",
    "        print(pca1.explained_variance_ratio_)#mention what it is : Shivesh\n",
    "        print(pca1.components_)# mention this to!\n",
    "else:\n",
    "    X = scaled\n",
    "\n",
    "    if len(feats)>components:\n",
    "        if components == 0:\n",
    "            components=None\n",
    "        pca1, trans1 = create_pca(X=X, n_components=components)\n",
    "        print(pca1.explained_variance_ratio_)#mention what it is : Shivesh\n",
    "        print(pca1.components_)# mention this to!\n",
    "\n",
    "    "
   ]
  },
  {
   "cell_type": "code",
   "execution_count": 184,
   "metadata": {},
   "outputs": [],
   "source": [
    "if label==1 and visualization==1:\n",
    "\n",
    "    pca = PCA()\n",
    "    components = pca.fit_transform(df[features])\n",
    "    labels = {\n",
    "        str(i): f\"PC {i+1} ({var:.1f}%)\"\n",
    "        for i, var in enumerate(pca.explained_variance_ratio_ * 100)\n",
    "    }\n",
    "    fig = px.scatter_matrix(\n",
    "    components,\n",
    "    labels=labels,\n",
    "    dimensions=range(len(features)),\n",
    "    color=scaled[\"Label\"]\n",
    "    )\n",
    "    fig.update_traces(diagonal_visible=True)\n",
    "    fig.show()"
   ]
  }
 ],
 "metadata": {
  "kernelspec": {
   "display_name": "Python 3.10.7 64-bit",
   "language": "python",
   "name": "python3"
  },
  "language_info": {
   "codemirror_mode": {
    "name": "ipython",
    "version": 3
   },
   "file_extension": ".py",
   "mimetype": "text/x-python",
   "name": "python",
   "nbconvert_exporter": "python",
   "pygments_lexer": "ipython3",
   "version": "3.10.7"
  },
  "orig_nbformat": 4,
  "vscode": {
   "interpreter": {
    "hash": "d110a50634ac0545c64db3c4c681993fcf29293d23692d0a38d1b77b14305ce1"
   }
  }
 },
 "nbformat": 4,
 "nbformat_minor": 2
}
